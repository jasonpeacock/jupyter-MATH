{
 "cells": [
  {
   "cell_type": "code",
   "execution_count": 1,
   "metadata": {},
   "outputs": [],
   "source": [
    "%matplotlib inline\n",
    "\n",
    "from PIL import Image\n",
    "import numpy as np\n",
    "from matplotlib import pyplot as plt"
   ]
  },
  {
   "cell_type": "code",
   "execution_count": 2,
   "metadata": {},
   "outputs": [],
   "source": [
    "def show_bw_image(img, title=None):\n",
    "    plt.matshow(img, cmap=\"Blues\", vmin=0, vmax=255)\n",
    "    plt.title(title)\n",
    "    plt.show()\n",
    "    \n",
    "def coordinates(m):\n",
    "    try:\n",
    "        row, col = m.shape\n",
    "    except:\n",
    "        row, col, _ = m.shape\n",
    "    return np.mgrid[0:row, 0:col].reshape((2, row*col))\n",
    "\n",
    "def show_bw_image_transform(title, image, transform, bg_size=(10, 10)):\n",
    "    # Create blank background for image.\n",
    "    background = np.zeros((bg_size[0], bg_size[1]), dtype=np.uint8)\n",
    "    \n",
    "    # Get the image coordinates & apply the transform.\n",
    "    updated_indexes = transform.dot(coordinates(image)).round().astype(int)\n",
    "\n",
    "    # Get the image values.\n",
    "    max_row, max_col = image.shape\n",
    "    values = image.reshape((1, max_row*max_col)).flat\n",
    "    \n",
    "    i = 0\n",
    "    for index in updated_indexes.T:\n",
    "        row, col = index\n",
    "        background[row][col] = values[i]\n",
    "        i += 1\n",
    "\n",
    "    show_bw_image(background, title)\n",
    "    return background\n",
    "\n",
    "def coordinates_3d(m):\n",
    "    try:\n",
    "        row, col = m.shape\n",
    "    except:\n",
    "        row, col, _ = m.shape\n",
    "    return np.vstack((np.mgrid[0:row, 0:col].reshape((2, row*col)), np.ones(row*col))).astype(int)\n",
    "\n",
    "def show_bw_image_transform_3d(title, image, transform, bg_size=(10, 10)):\n",
    "    # Create blank background for image.\n",
    "    background = np.zeros((bg_size[0], bg_size[1]), dtype=np.uint8)\n",
    "    \n",
    "    # Get the image coordinates & apply the transform.\n",
    "    updated_indexes = transform.dot(coordinates_3d(image)).round().astype(int)\n",
    "\n",
    "    # Get the image values\n",
    "    max_row, max_col = image.shape\n",
    "    values = image.reshape((1, max_row*max_col)).flat\n",
    "\n",
    "    i = 0\n",
    "    for index in updated_indexes.T:\n",
    "        row, col, _ = index\n",
    "        background[row][col] = values[i]\n",
    "        i += 1\n",
    "\n",
    "    show_bw_image(background, title)\n",
    "    return background\n",
    "\n",
    "def show_image(img, title=None):\n",
    "    plt.matshow(img)\n",
    "    plt.title(title)\n",
    "    plt.show()\n",
    "    \n",
    "def show_image_transform_3d(title, image, transform, bg_size=(10, 10)):\n",
    "    # Create blank background for image.\n",
    "    background = np.zeros((bg_size[0], bg_size[1], 4), dtype=np.uint8)\n",
    "    \n",
    "    # Get the image coordinates & apply the transform.\n",
    "    updated_indexes = transform.dot(coordinates_3d(image)).round().astype(int)\n",
    "\n",
    "    # Get the image values.\n",
    "    values = image.transpose(2, 0, 1).reshape((4, -1)).T\n",
    "\n",
    "    i = 0\n",
    "    for index in updated_indexes.T:\n",
    "        row, col, _ = index\n",
    "        background[row][col] = values[i]\n",
    "        i += 1\n",
    "\n",
    "    show_image(background, title)\n",
    "    return background"
   ]
  },
  {
   "cell_type": "code",
   "execution_count": 3,
   "metadata": {},
   "outputs": [],
   "source": [
    "img_3x3 = np.array(\n",
    "    [[50, 75, 100],\n",
    "     [125, 150, 175],\n",
    "     [200, 225, 250]],\n",
    "    dtype=np.uint8\n",
    ")\n",
    "\n",
    "identity_3x3 = np.array(\n",
    "    [[1, 0, 0],\n",
    "     [0, 1, 0],\n",
    "     [0, 0, 1]],\n",
    "    dtype=np.uint8\n",
    ")"
   ]
  },
  {
   "cell_type": "code",
   "execution_count": 4,
   "metadata": {},
   "outputs": [],
   "source": [
    "smiley = Image.open(\"smiley.png\")\n",
    "img_smiley = np.array(smiley, dtype=np.uint8)"
   ]
  },
  {
   "cell_type": "markdown",
   "metadata": {},
   "source": [
    "# What is a matrix?\n",
    "\n",
    "> A rectangular array of quantities or expressions in rows and columns that is treated as a single entity and manipulated according to particular rules. [Wikipedia](https://en.wikipedia.org/wiki/Matrix_(mathematics))\n",
    "\n",
    "Basically, a `matrix` is a table with the column and row labels removed, thus:\n",
    "\n",
    "||Column 1|Column 2|\n",
    "|---|---|---|\n",
    "|Row 1|0|1|\n",
    "|Row 2|2|3|\n",
    "\n",
    "Becomes:\n",
    "\n",
    "$$\n",
    "\\begin{bmatrix}\n",
    "0 & 1 \\\\\n",
    "2 & 3\n",
    "\\end{bmatrix}\n",
    "$$\n",
    "\n",
    "\n",
    "## Vocabulary\n",
    "\n",
    "Table cells in a matrix are called `entries`, and are referred to by their row and column location starting at the top-left of the matrix:\n",
    "\n",
    "$$\n",
    "\\begin{bmatrix}\n",
    "0_{0,0} & 1_{0,1} \\\\\n",
    "2_{1,0} & 3_{1,1}\n",
    "\\end{bmatrix}\n",
    "$$\n",
    "\n",
    "A single value not in a table is called a `scalar`, e.g. `5`.\n",
    "\n",
    "The size of the table, using rows and columns, is the matrix's `dimensions`:\n",
    "\n",
    "$$\\begin{bmatrix}0 & 1 \\\\2 & 3\\end{bmatrix} = 2 \\times 2$$\n",
    "\n",
    "$$\\begin{bmatrix}0 \\\\2\\end{bmatrix} = 2 \\times 1$$\n",
    "\n",
    "$$\\begin{bmatrix}0 & 1\\end{bmatrix} = 1 \\times 2$$"
   ]
  },
  {
   "cell_type": "markdown",
   "metadata": {},
   "source": [
    "## Why do we care?\n",
    "\n",
    "Because images are actually matrices! They're just tables of pixel colors. Pixel colors are usually $1 \\times 3$ dimension matrices themselves, with the entries representing *red*, *green*, and *blue* values:\n",
    "\n",
    "$$\n",
    "\\begin{bmatrix}\n",
    "\\color{red}{<0-255>_{red}} & \\color{green}{<0-255>_{green}} & \\color{blue}{<0-255>_{blue}}\n",
    "\\end{bmatrix}\n",
    "$$\n",
    "\n",
    "*Note: There are many different image formats, with different sizes of numbers used to represent color values, this is the simplest format.*\n",
    "\n",
    "Thus, an image is a 3-dimensional matrix: $rows \\times columns \\times color$\n",
    "\n",
    "To keep things simple in the examples below, we'll stick to grayscale (or blue) images which use only a single color. So our image matrices will be $rows \\times columns \\times 1$, or just $rows \\times columns$."
   ]
  },
  {
   "cell_type": "markdown",
   "metadata": {},
   "source": [
    "## A simple $2 \\times 2$ image\n",
    "\n",
    "A $2 \\times 2$ image with grey pixels values has 4 entries total, with the pixel values from 0 to 255."
   ]
  },
  {
   "cell_type": "code",
   "execution_count": 5,
   "metadata": {
    "scrolled": true
   },
   "outputs": [
    {
     "name": "stdout",
     "output_type": "stream",
     "text": [
      "Matrix dimensions: (2, 2)\n"
     ]
    },
    {
     "data": {
      "image/png": "[encoded data removed]",
      "text/plain": [
       "<Figure size 288x288 with 1 Axes>"
      ]
     },
     "metadata": {
      "needs_background": "light"
     },
     "output_type": "display_data"
    }
   ],
   "source": [
    "img_2x2 = np.array(\n",
    "    [[50, 100],\n",
    "     [150, 200]],\n",
    "    dtype=np.uint8\n",
    ")\n",
    "\n",
    "print(\"Matrix dimensions: {}\".format(img_2x2.shape))\n",
    "show_bw_image(img_2x2)"
   ]
  },
  {
   "cell_type": "markdown",
   "metadata": {},
   "source": [
    "# Matrix Math"
   ]
  },
  {
   "cell_type": "markdown",
   "metadata": {},
   "source": [
    "## Scalar & Matrix\n",
    "\n",
    "### Addition\n",
    "\n",
    "Add the scalar to every entry in the matrix:\n",
    "\n",
    "$$\n",
    "10 +\n",
    "\\begin{bmatrix}\n",
    "0 & 1 \\\\\n",
    "2 & 3\n",
    "\\end{bmatrix}\n",
    "=\n",
    "\\begin{bmatrix}\n",
    "10 + 0 & 10 + 1 \\\\\n",
    "10 + 2 & 10 + 3\n",
    "\\end{bmatrix}\n",
    "=\n",
    "\\begin{bmatrix}\n",
    "10 & 11 \\\\\n",
    "12 & 13\n",
    "\\end{bmatrix}\n",
    "$$\n",
    "\n",
    "### Multiplication\n",
    "\n",
    "Multiply the scalar with every entry in the matrix:\n",
    "\n",
    "$$\n",
    "10\n",
    "\\cdot\n",
    "\\begin{bmatrix}\n",
    "0 & 1 \\\\\n",
    "2 & 3\n",
    "\\end{bmatrix}\n",
    "=\n",
    "\\begin{bmatrix}\n",
    "10 \\cdot 0 & 10 \\cdot 1 \\\\\n",
    "10 \\cdot 2 & 10 \\cdot 3\n",
    "\\end{bmatrix}\n",
    "=\n",
    "\\begin{bmatrix}\n",
    "0 & 10 \\\\\n",
    "20 & 30\n",
    "\\end{bmatrix}\n",
    "$$"
   ]
  },
  {
   "cell_type": "markdown",
   "metadata": {},
   "source": [
    "## Why do we care?\n",
    "\n",
    "Let's do some *scalar & matrix* math with our $2 \\times 2$ image and see what's possible!"
   ]
  },
  {
   "cell_type": "code",
   "execution_count": 6,
   "metadata": {},
   "outputs": [
    {
     "data": {
      "image/png": "[encoded data removed]",
      "text/plain": [
       "<Figure size 288x288 with 1 Axes>"
      ]
     },
     "metadata": {
      "needs_background": "light"
     },
     "output_type": "display_data"
    }
   ],
   "source": [
    "show_bw_image(img_2x2, \"Original\")"
   ]
  },
  {
   "cell_type": "code",
   "execution_count": 7,
   "metadata": {},
   "outputs": [
    {
     "data": {
      "image/png": "[encoded data removed]",
      "text/plain": [
       "<Figure size 288x288 with 1 Axes>"
      ]
     },
     "metadata": {
      "needs_background": "light"
     },
     "output_type": "display_data"
    }
   ],
   "source": [
    "darker = img_2x2 + 50\n",
    "\n",
    "show_bw_image(darker, \"Darken all pixels by '50'\")"
   ]
  },
  {
   "cell_type": "code",
   "execution_count": 8,
   "metadata": {},
   "outputs": [
    {
     "data": {
      "image/png": "[encoded data removed]",
      "text/plain": [
       "<Figure size 288x288 with 1 Axes>"
      ]
     },
     "metadata": {
      "needs_background": "light"
     },
     "output_type": "display_data"
    }
   ],
   "source": [
    "lighter = img_2x2 * 0.5\n",
    "\n",
    "# Have to do some extra work (convert from decimals back to whole numbers)\n",
    "# after doing the math.\n",
    "show_bw_image(np.around(lighter).astype(int), \"Lighten all pixels by 50%\")"
   ]
  },
  {
   "cell_type": "markdown",
   "metadata": {},
   "source": [
    "## Matrix & Matrix\n",
    "\n",
    "### Addition\n",
    "\n",
    "Add the matching entries in each matrix together:\n",
    "\n",
    "$$\n",
    "\\begin{bmatrix}\n",
    "0 & 1 \\\\\n",
    "2 & 3\n",
    "\\end{bmatrix}\n",
    "+\n",
    "\\begin{bmatrix}\n",
    "0 & 1 \\\\\n",
    "2 & 3\n",
    "\\end{bmatrix}\n",
    "=\n",
    "\\begin{bmatrix}\n",
    "0 + 0 & 1 + 1 \\\\\n",
    "2 + 2 & 3 + 3\n",
    "\\end{bmatrix}\n",
    "=\n",
    "\\begin{bmatrix}\n",
    "0 & 2 \\\\\n",
    "4 & 6\n",
    "\\end{bmatrix}\n",
    "$$\n",
    "\n",
    "*You can't add two matrices that have different dimensions:*\n",
    "\n",
    "$$\n",
    "\\begin{bmatrix}\n",
    "0 & 1 \\\\\n",
    "2 & 3\n",
    "\\end{bmatrix}\n",
    "+\n",
    "\\begin{bmatrix}\n",
    "0 & 1 & 2\\\\\n",
    "3 & 4 & 5\n",
    "\\end{bmatrix}\n",
    "=\\\n",
    "!!!\n",
    "$$"
   ]
  },
  {
   "cell_type": "code",
   "execution_count": 9,
   "metadata": {},
   "outputs": [
    {
     "data": {
      "image/png": "[encoded data removed]",
      "text/plain": [
       "<Figure size 288x288 with 1 Axes>"
      ]
     },
     "metadata": {
      "needs_background": "light"
     },
     "output_type": "display_data"
    },
    {
     "data": {
      "image/png": "[encoded data removed]",
      "text/plain": [
       "<Figure size 288x288 with 1 Axes>"
      ]
     },
     "metadata": {
      "needs_background": "light"
     },
     "output_type": "display_data"
    },
    {
     "data": {
      "image/png": "[encoded data removed]",
      "text/plain": [
       "<Figure size 288x288 with 1 Axes>"
      ]
     },
     "metadata": {
      "needs_background": "light"
     },
     "output_type": "display_data"
    }
   ],
   "source": [
    "img_2x2_a = np.array(\n",
    "    [[0, 100],\n",
    "     [0, 0]],\n",
    "    dtype=np.uint8\n",
    ")\n",
    "\n",
    "img_2x2_b = np.array(\n",
    "    [[0, 0],\n",
    "     [100, 0]],\n",
    "    dtype=np.uint8\n",
    ")\n",
    "\n",
    "show_bw_image(img_2x2_a, \"a\")\n",
    "show_bw_image(img_2x2_b, \"b\")\n",
    "\n",
    "added = img_2x2_a + img_2x2_b\n",
    "\n",
    "show_bw_image(added, \"a + b added together\")"
   ]
  },
  {
   "cell_type": "markdown",
   "metadata": {},
   "source": [
    "### Multiplication\n",
    "\n",
    "Matrices can only be multiplied if the *column* dimension of the first matrix ($m \\times \\mathbf{n}$) matches the *row* dimension of the second matrix ($\\mathbf{n} \\times p$). A matrix with dimensions $m \\times p$ will be the result.\n",
    "\n",
    "$$\n",
    "\\stackrel{\\mbox{$1 \\times 2$}}{%\n",
    "\\begin{bmatrix}\n",
    "0 & 1\n",
    "\\end{bmatrix}%\n",
    "}\\\n",
    "\\stackrel{\\mbox{$2 \\times 1$}}{%\n",
    "\\begin{bmatrix}\n",
    "0 \\\\\n",
    "2\n",
    "\\end{bmatrix}%\n",
    "}\\\n",
    "=\\\n",
    "\\stackrel{\\mbox{$1 \\times 1$}}{%\n",
    "\\begin{bmatrix}\n",
    "2\n",
    "\\end{bmatrix}%\n",
    "}\n",
    "$$\n",
    "\n",
    "$$\n",
    "\\stackrel{\\mbox{$2 \\times 1$}}{%\n",
    "\\begin{bmatrix}\n",
    "0 \\\\\n",
    "2\n",
    "\\end{bmatrix}%\n",
    "}\\\n",
    "\\stackrel{\\mbox{$1 \\times 2$}}{%\n",
    "\\begin{bmatrix}\n",
    "0 & 1\n",
    "\\end{bmatrix}%\n",
    "}\\\n",
    "=\\\n",
    "\\stackrel{\\mbox{$2 \\times 2$}}{%\n",
    "\\begin{bmatrix}\n",
    "0 & 0 \\\\\n",
    "0 & 2\n",
    "\\end{bmatrix}%\n",
    "}\n",
    "$$\n",
    "\n",
    "$$\n",
    "\\stackrel{\\mbox{$2 \\times 2$}}{%\n",
    "\\begin{bmatrix}\n",
    "0 & 1 \\\\\n",
    "2 & 3\n",
    "\\end{bmatrix}%\n",
    "}\\\n",
    "\\stackrel{\\mbox{$2 \\times 2$}}{%\n",
    "\\begin{bmatrix}\n",
    "0 & 1 \\\\\n",
    "2 & 3\n",
    "\\end{bmatrix}%\n",
    "}\\\n",
    "=\\\n",
    "\\stackrel{\\mbox{$2 \\times 2$}}{%\n",
    "\\begin{bmatrix}\n",
    "2 & 3 \\\\\n",
    "6 & 11\n",
    "\\end{bmatrix}%\n",
    "}\n",
    "$$\n",
    "\n",
    "$$\n",
    "\\stackrel{\\mbox{$3 \\times 2$}}{%\n",
    "\\begin{bmatrix}\n",
    "0 & 1 \\\\\n",
    "2 & 3 \\\\\n",
    "4 & 5\n",
    "\\end{bmatrix}%\n",
    "}\\\n",
    "\\stackrel{\\mbox{$2 \\times 3$}}{%\n",
    "\\begin{bmatrix}\n",
    "0 & 1 & 2\\\\\n",
    "3 & 4 & 5\n",
    "\\end{bmatrix}%\n",
    "}\\\n",
    "=\\\n",
    "\\stackrel{\\mbox{$3 \\times 3$}}{%\n",
    "\\begin{bmatrix}\n",
    "3 & 4 & 5\\\\\n",
    "9 & 14 & 19\\\\\n",
    "15 & 24 & 33\n",
    "\\end{bmatrix}%\n",
    "}\n",
    "$$\n",
    "\n",
    "$$\n",
    "\\stackrel{\\mbox{$2 \\times 3$}}{%\n",
    "\\begin{bmatrix}\n",
    "0 & 1 & 2\\\\\n",
    "3 & 4 & 5\n",
    "\\end{bmatrix}%\n",
    "}\\\n",
    "\\stackrel{\\mbox{$3 \\times 2$}}{%\n",
    "\\begin{bmatrix}\n",
    "0 & 1 \\\\\n",
    "2 & 3 \\\\\n",
    "4 & 5\n",
    "\\end{bmatrix}%\n",
    "}\\\n",
    "=\\\n",
    "\\stackrel{\\mbox{$2 \\times 2$}}{%\n",
    "\\begin{bmatrix}\n",
    "10 & 13 \\\\\n",
    "28 & 40\n",
    "\\end{bmatrix}%\n",
    "}\n",
    "$$"
   ]
  },
  {
   "cell_type": "markdown",
   "metadata": {},
   "source": [
    "#### How to multiply\n",
    "\n",
    "Matrix multiplication uses the `dot product`, where each entry in a row of the first matrix is multiplied with the respective entry in each column of the second matrix (row 1 -> column 1, row 1 -> column 2, etc), and then those products are added together per column to create the new row entries.\n",
    "\n",
    "$$\n",
    "\\begin{bmatrix}\n",
    "\\color{red} 0 \\\\\n",
    "\\color{orange} 2\n",
    "\\end{bmatrix}\n",
    "\\begin{bmatrix}\n",
    "\\color{blue} 0 & \\color{green} 1\n",
    "\\end{bmatrix}\n",
    "=\n",
    "\\begin{bmatrix}\n",
    "\\color{red} 0 \\cdot \\color{blue} 0 & \\color{red} 0 \\cdot \\color{green} 1 \\\\\n",
    "\\color{orange} 2 \\cdot \\color{blue} 0 & \\color{orange} 2 \\cdot \\color{green} 1\n",
    "\\end{bmatrix}\n",
    "=\n",
    "\\begin{bmatrix}\n",
    "0 & 0 \\\\\n",
    "0 & 2\n",
    "\\end{bmatrix}\n",
    "$$\n",
    "\n",
    "$$\n",
    "\\begin{bmatrix}\n",
    "\\color{red} 0 & \\color{red} 1 \\\\\n",
    "\\color{orange} 2 & \\color{orange} 3\n",
    "\\end{bmatrix}\n",
    "\\begin{bmatrix}\n",
    "\\color{blue} 0 & \\color{green} 1 \\\\\n",
    "\\color{blue} 2 & \\color{green} 3\n",
    "\\end{bmatrix}\n",
    "=\n",
    "\\begin{bmatrix}\n",
    "\\color{red} 0 \\cdot \\color{blue} 0 + \\color{red} 1 \\cdot \\color{blue} 2 & \\color{red} 0 \\cdot \\color{green} 1 + \\color{red} 1 \\cdot \\color{green} 3 \\\\\n",
    "\\color{orange} 2 \\cdot \\color{blue} 0 + \\color{orange} 3 \\cdot \\color{blue} 2 & \\color{orange} 2 \\cdot \\color{green} 1 + \\color{orange} 3 \\cdot \\color{green} 3\n",
    "\\end{bmatrix}\n",
    "=\n",
    "\\begin{bmatrix}\n",
    "2 & 3 \\\\\n",
    "6 & 11\n",
    "\\end{bmatrix}\n",
    "$$\n",
    "\n",
    "$$\n",
    "\\begin{bmatrix}\n",
    "\\color{red} 0 & \\color{red} 1 \\\\\n",
    "\\color{orange} 2 & \\color{orange} 3 \\\\\n",
    "\\color{pink} 4 & \\color{pink} 5\n",
    "\\end{bmatrix}\n",
    "\\begin{bmatrix}\n",
    "\\color{blue} 0 & \\color{green} 1 & \\color{purple} 2\\\\\n",
    "\\color{blue} 3 & \\color{green} 4 & \\color{purple} 5\n",
    "\\end{bmatrix}\n",
    "=\n",
    "\\begin{bmatrix}\n",
    "\\color{red} 0 \\cdot \\color{blue} 0 + \\color{red} 1 \\cdot \\color{blue} 3 &\n",
    "\\color{red} 0 \\cdot \\color{green} 1 + \\color{red} 1 \\cdot \\color{green} 4 &\n",
    "\\color{red} 0 \\cdot \\color{purple} 2 + \\color{red} 1 \\cdot \\color{purple} 5\\\\\n",
    "\\color{orange} 2 \\cdot \\color{blue} 0 + \\color{orange} 3 \\cdot \\color{blue} 3 &\n",
    "\\color{orange} 2 \\cdot \\color{green} 1 + \\color{orange} 3 \\cdot \\color{green} 4 &\n",
    "\\color{orange} 2 \\cdot \\color{purple} 2 + \\color{orange} 3 \\cdot \\color{purple} 5\\\\\n",
    "\\color{pink} 4 \\cdot \\color{blue} 0 + \\color{pink} 5 \\cdot \\color{blue} 3 &\n",
    "\\color{pink} 4 \\cdot \\color{green} 1 + \\color{pink} 5 \\cdot \\color{green} 4 &\n",
    "\\color{pink} 4 \\cdot \\color{purple} 2 + \\color{pink} 5 \\cdot \\color{purple} 5\n",
    "\\end{bmatrix}\n",
    "=\n",
    "\\begin{bmatrix}\n",
    "3 & 4 & 5\\\\\n",
    "9 & 14 & 19\\\\\n",
    "15 & 24 & 33\n",
    "\\end{bmatrix}\n",
    "$$\n",
    "\n",
    "$$\n",
    "\\begin{bmatrix}\n",
    "\\color{red} 0 & \\color{red} 1 & \\color{red} 2\\\\\n",
    "\\color{orange} 3 & \\color{orange} 4 & \\color{orange} 5\n",
    "\\end{bmatrix}\n",
    "\\begin{bmatrix}\n",
    "\\color{blue} 0 & \\color{green} 1 \\\\\n",
    "\\color{blue} 2 & \\color{green} 3 \\\\\n",
    "\\color{blue} 4 & \\color{green} 5\n",
    "\\end{bmatrix}\n",
    "=\n",
    "\\begin{bmatrix}\n",
    "\\color{red} 0 \\cdot \\color{blue} 0 + \\color{red} 1 \\cdot \\color{blue} 2 + \\color{red} 2 \\cdot \\color{blue} 4 &\n",
    "\\color{red} 0 \\cdot \\color{green} 1 + \\color{red} 1 \\cdot \\color{green} 3 + \\color{red} 2 \\cdot \\color{green} 5 \\\\\n",
    "\\color{orange} 3 \\cdot \\color{blue} 0 + \\color{orange} 4 \\cdot \\color{blue} 2 + \\color{orange} 5 \\cdot \\color{blue} 4 &\n",
    "\\color{orange} 3 \\cdot \\color{green} 1 + \\color{orange} 4 \\cdot \\color{green} 3 + \\color{orange} 5 \\cdot \\color{green} 5 \\\\\n",
    "\\end{bmatrix}\n",
    "=\n",
    "\\begin{bmatrix}\n",
    "10 & 13 \\\\\n",
    "28 & 40\n",
    "\\end{bmatrix}\n",
    "$$"
   ]
  },
  {
   "cell_type": "code",
   "execution_count": 10,
   "metadata": {},
   "outputs": [
    {
     "data": {
      "image/png": "[encoded data removed]",
      "text/plain": [
       "<Figure size 288x288 with 1 Axes>"
      ]
     },
     "metadata": {
      "needs_background": "light"
     },
     "output_type": "display_data"
    },
    {
     "data": {
      "image/png": "[encoded data removed]",
      "text/plain": [
       "<Figure size 288x288 with 1 Axes>"
      ]
     },
     "metadata": {
      "needs_background": "light"
     },
     "output_type": "display_data"
    },
    {
     "name": "stdout",
     "output_type": "stream",
     "text": [
      "[[    0     0]\n",
      " [    0 10000]]\n"
     ]
    },
    {
     "data": {
      "image/png": "[encoded data removed]",
      "text/plain": [
       "<Figure size 288x288 with 1 Axes>"
      ]
     },
     "metadata": {
      "needs_background": "light"
     },
     "output_type": "display_data"
    }
   ],
   "source": [
    "img_2x2_a = np.array(\n",
    "    [[0, 100],\n",
    "     [100, 0]]\n",
    ") \n",
    "\n",
    "img_2x2_b = np.array(\n",
    "    [[0, 100],\n",
    "     [0, 0]]\n",
    ") \n",
    "\n",
    "show_bw_image(img_2x2_a, \"a\")\n",
    "show_bw_image(img_2x2_b, \"b\")\n",
    "\n",
    "multiplied = img_2x2_a.dot(img_2x2_b)\n",
    "\n",
    "print(multiplied)\n",
    "\n",
    "show_bw_image(multiplied, \"a * b multiplied together\")"
   ]
  },
  {
   "cell_type": "markdown",
   "metadata": {},
   "source": [
    "#### Identity Matrix\n",
    "\n",
    "A special case of multiplication is the `Identity` matrix - $\\begin{bmatrix} 1 & 0 \\\\ 0 & 1 \\end{bmatrix}$ - a matrix that always returns the original matrix when multiplied.\n",
    "\n",
    "It's like using `1` for scalar multiplication:\n",
    "\n",
    "$$5 \\cdot 1 = 5$$\n",
    "\n",
    "But in matrices, it's a square matrix with a diagonal of `1`'s:\n",
    "\n",
    "$$\n",
    "\\begin{bmatrix}\n",
    "\\color{red} 0 & \\color{red} 1 & \\color{red} 2\\\\\n",
    "\\color{orange} 3 & \\color{orange} 4 & \\color{orange} 5\n",
    "\\end{bmatrix}\n",
    "\\begin{bmatrix}\n",
    "\\color{blue} 1 & \\color{green} 0 & \\color{purple} 0 \\\\\n",
    "\\color{blue} 0 & \\color{green} 1 & \\color{purple} 0 \\\\\n",
    "\\color{blue} 0 & \\color{green} 0 & \\color{purple} 1 \n",
    "\\end{bmatrix}\n",
    "=\n",
    "\\begin{bmatrix}\n",
    "\\color{red} 0 \\cdot \\color{blue} 1 + \\color{red} 1 \\cdot \\color{blue} 0 + \\color{red} 2 \\cdot \\color{blue} 0 &\n",
    "\\color{red} 0 \\cdot \\color{green} 0 + \\color{red} 1 \\cdot \\color{green} 1 + \\color{red} 2 \\cdot \\color{green} 0 &\n",
    "\\color{red} 0 \\cdot \\color{purple} 0 + \\color{red} 1 \\cdot \\color{purple} 0 + \\color{red} 2 \\cdot \\color{purple} 1 \\\\\n",
    "\\color{orange} 3 \\cdot \\color{blue} 1 + \\color{orange} 4 \\cdot \\color{blue} 0 + \\color{orange} 5 \\cdot \\color{blue} 0 &\n",
    "\\color{orange} 3 \\cdot \\color{green} 0 + \\color{orange} 4 \\cdot \\color{green} 1 + \\color{orange} 5 \\cdot \\color{green} 0 &\n",
    "\\color{orange} 3 \\cdot \\color{purple} 0 + \\color{orange} 4 \\cdot \\color{purple} 0 + \\color{orange} 5 \\cdot \\color{purple} 1 \\\\\n",
    "\\end{bmatrix}\n",
    "=\n",
    "\\begin{bmatrix}\n",
    "0 & 1 & 2 \\\\\n",
    "3 & 4 & 5\n",
    "\\end{bmatrix}\n",
    "$$"
   ]
  },
  {
   "cell_type": "code",
   "execution_count": 11,
   "metadata": {},
   "outputs": [
    {
     "data": {
      "image/png": "[encoded data removed]",
      "text/plain": [
       "<Figure size 288x288 with 1 Axes>"
      ]
     },
     "metadata": {
      "needs_background": "light"
     },
     "output_type": "display_data"
    },
    {
     "name": "stdout",
     "output_type": "stream",
     "text": [
      "Identity matrix:\n",
      "[[1 0]\n",
      " [0 1]]\n"
     ]
    },
    {
     "data": {
      "image/png": "[encoded data removed]",
      "text/plain": [
       "<Figure size 288x288 with 1 Axes>"
      ]
     },
     "metadata": {
      "needs_background": "light"
     },
     "output_type": "display_data"
    }
   ],
   "source": [
    "identity_2x2 = np.array(\n",
    "    [[1, 0],\n",
    "     [0, 1]]\n",
    ") \n",
    "\n",
    "show_bw_image(img_2x2, \"Original\")\n",
    "\n",
    "print(\"Identity matrix:\\n{}\".format(identity_2x2))\n",
    "\n",
    "multiplied_with_identity = img_2x2.dot(identity_2x2)\n",
    "\n",
    "show_bw_image(multiplied_with_identity, \"Multiplied with Identity\")"
   ]
  },
  {
   "cell_type": "markdown",
   "metadata": {},
   "source": [
    "## Why do we care?\n",
    "\n",
    "Matrix math appears limited because it requires matrices with the same dimensions (addition) or with matching row/column dimensions (multiplication). But that is only because of our current example - we're modifying the pixel *values* of an image, not the pixel *coordinates*.\n",
    "\n",
    "We're not creating Photoshop, so we don't care about pixel values :)\n",
    "\n",
    "What if we switch to applying matrix math to the *pixel coordinates* of the image?"
   ]
  },
  {
   "cell_type": "markdown",
   "metadata": {},
   "source": [
    "# Image Transforms"
   ]
  },
  {
   "cell_type": "markdown",
   "metadata": {},
   "source": [
    "Image transforms change the shape of an image - move, rotate, skew, scale, shear, etc - by modifying the pixel coordinates. Thus, we need a matrix that holds the coordinates of all the pixel in an image that we use in our matrix math."
   ]
  },
  {
   "cell_type": "markdown",
   "metadata": {},
   "source": [
    "## Pixel Coordinates\n",
    "\n",
    "Here's the $2 \\times 2$ image matrix we've been using with the pixel values sub-scripted with their matrix indexes - the *pixel coordinates*:\n",
    "\n",
    "$$\n",
    "\\begin{bmatrix}\n",
    "50_{0,0} & 100_{0,1} \\\\\n",
    "150_{1,0} & 200_{1,1}\n",
    "\\end{bmatrix}\n",
    "$$\n",
    "\n",
    "Extracting the pixel coordinates into a list of $(row, col)$ pairs, we get a $2 \\times 4$ coordinate matrix:\n",
    "\n",
    "$$\n",
    "\\begin{bmatrix}\n",
    "row_{0} \\cdots row_{n} \\\\\n",
    "col_{0} \\cdots col_{n}\n",
    "\\end{bmatrix}\n",
    "=\n",
    "\\begin{bmatrix}\n",
    "0 & 0 & 1 & 1\\\\\n",
    "0 & 1 & 0 & 1\n",
    "\\end{bmatrix}\n",
    "$$\n",
    "\n",
    "Now we can apply transforms to the pixel coordinate matrix to change the shape of an image!\n",
    "\n",
    "$$\n",
    "1 +\n",
    "\\begin{bmatrix}\n",
    "0 & 0 & 1 & 1 \\\\\n",
    "0 & 1 & 0 & 1\n",
    "\\end{bmatrix}\n",
    "=\n",
    "\\begin{bmatrix}\n",
    "1 & 1 & 2 & 2 \\\\\n",
    "1 & 2 & 1 & 2\n",
    "\\end{bmatrix}\n",
    "$$\n",
    "\n",
    "After the transform we copy the pixel values from the original coordinates to their new locations to create the updated image. We can do this because even though we are changing the coordinate values we keep the coordinate list of $(row, col)$ pairs in the same order.\n",
    "\n",
    "$$\n",
    "\\begin{bmatrix}\n",
    "_{0,0} & _{0,1} & _{0,2} \\\\\n",
    "_{1,0} & \\mathbf{50}_{1,1} & \\mathbf{100}_{1,2} \\\\\n",
    "_{2,0} & \\mathbf{150}_{2,1} & \\mathbf{200}_{2,2}\n",
    "\\end{bmatrix}\n",
    "$$\n",
    "\n"
   ]
  },
  {
   "cell_type": "markdown",
   "metadata": {},
   "source": [
    "## Scalar Transforms\n",
    "\n",
    "We just saw how adding `1` (scalar addition) to the coordinate matrix moves the image by `1` in both `row` and `col` directions.\n",
    "\n",
    "We can do the same thing with scalar multiplication - multiplying by `2` will scale the image:\n",
    "\n",
    "$$\n",
    "2 \\cdot\n",
    "\\begin{bmatrix}\n",
    "0 & 0 & 1 & 1 \\\\\n",
    "0 & 1 & 0 & 1\n",
    "\\end{bmatrix}\n",
    "=\n",
    "\\begin{bmatrix}\n",
    "0 & 0 & 2 & 2 \\\\\n",
    "0 & 2 & 0 & 2\n",
    "\\end{bmatrix}\n",
    "$$\n",
    "\n",
    "$$\n",
    "\\begin{bmatrix}\n",
    "\\mathbf{50}_{0,0} & _{0,1} & \\mathbf{100}_{0,2} \\\\\n",
    "_{1,0} & _{1,1} & _{1,2} \\\\\n",
    "\\mathbf{150}_{2,0} & _{2,1} & \\mathbf{200}_{2,2}\n",
    "\\end{bmatrix}\n",
    "$$\n",
    "\n",
    "But how can we move or scale the image differently for `row` and `col` values?\n",
    "\n",
    "Scalar transforms always change both `row` and `col` by the same amount, we need a way to apply different values to `row` and `col`.\n",
    "\n",
    "Let's use a matrix!\n"
   ]
  },
  {
   "cell_type": "markdown",
   "metadata": {},
   "source": [
    "## Matrix Transforms\n",
    "\n",
    "### Scale\n",
    "\n",
    "Earlier we talked about the identity matrix $\\begin{bmatrix}1&0\\\\0&1\\end{bmatrix}$. Let's take a closer look at how it works using our coordinate matrix and we'll **bold** the `0` values of the identity matrix:\n",
    "\n",
    "$$\n",
    "\\begin{bmatrix}\n",
    "1 & \\mathbf{0} \\\\\n",
    "\\mathbf{0} & 1\n",
    "\\end{bmatrix}\n",
    "\\begin{bmatrix}\n",
    "0 & 0 & 1 & 1 \\\\\n",
    "0 & 1 & 0 & 1\n",
    "\\end{bmatrix}\n",
    "=\n",
    "\\begin{bmatrix}\n",
    "1 \\cdot 0 + \\mathbf{0} \\cdot 0 & 1 \\cdot 0 + \\mathbf{0} \\cdot 1 & 1 \\cdot 1 + \\mathbf{0} \\cdot 0 & 1 \\cdot 1  + \\mathbf{0} \\cdot 1 \\\\\n",
    "\\mathbf{0} \\cdot 0 + 1 \\cdot 0 & \\mathbf{0} \\cdot 0 + 1 \\cdot 1 & \\mathbf{0} \\cdot 1 + 1 \\cdot 0 & \\mathbf{0} \\cdot 1 + 1 \\cdot 1 \n",
    "\\end{bmatrix}\n",
    "=\n",
    "\\begin{bmatrix}\n",
    "0 & 0 & 1 & 1 \\\\\n",
    "0 & 1 & 0 & 1\n",
    "\\end{bmatrix}\n",
    "$$\n",
    "\n",
    "The identity matrix preserves the `row` values by using `0` to eliminate the `col` values in the addition operations. The same thing happens for the `col` values.\n",
    "\n",
    "Notice how the identity matrix is multiplying each `row` value by `1`, and each `col` value by a different `1` entry. What happens if we change those `1` entries to be different values?\n",
    "\n",
    "$$\n",
    "\\begin{bmatrix}\n",
    "\\mathbf{2} & 0 \\\\\n",
    "0 & \\mathbf{3}\n",
    "\\end{bmatrix}\n",
    "\\begin{bmatrix}\n",
    "0 & 0 & 1 & 1 \\\\\n",
    "0 & 1 & 0 & 1\n",
    "\\end{bmatrix}\n",
    "=\n",
    "\\begin{bmatrix}\n",
    "\\mathbf{2} \\cdot 0 + 0 \\cdot 0 & \\mathbf{2} \\cdot 0 + 0 \\cdot 1 & \\mathbf{2} \\cdot 1 + 0 \\cdot 0 & \\mathbf{2} \\cdot 1 + 0 \\cdot 1 \\\\\n",
    "0 \\cdot 0 + \\mathbf{3} \\cdot 0 & 0 \\cdot 0 + \\mathbf{3} \\cdot 1 & 0 \\cdot 1 + \\mathbf{3} \\cdot 0 & 0 \\cdot 1 + \\mathbf{3} \\cdot 1 \n",
    "\\end{bmatrix}\n",
    "=\n",
    "\\begin{bmatrix}\n",
    "0 & 0 & 2 & 2 \\\\\n",
    "0 & 3 & 0 & 3\n",
    "\\end{bmatrix}\n",
    "$$\n",
    "\n",
    "The coordinates now have all the `row` values multiplied by `2`, and the `col` values multiplied by `3`. Success!\n",
    "\n",
    "We can call this our *scaling transform matrix*:\n",
    "\n",
    "$$\n",
    "\\begin{bmatrix}\n",
    "c_{row} & 0\\\\\n",
    "0 & c_{col}\n",
    "\\end{bmatrix}\n",
    "$$\n",
    "\n",
    "Where it applies the scaling transform to the coordinates $(row, col) \\rightarrow (row', col')$:\n",
    "\n",
    "$$row \\cdot c_{row} = row'$$\n",
    "$$col \\cdot c_{col} = col'$$"
   ]
  },
  {
   "cell_type": "code",
   "execution_count": 12,
   "metadata": {},
   "outputs": [
    {
     "name": "stdout",
     "output_type": "stream",
     "text": [
      "Original indexes:\n",
      "[[0 0 1 1]\n",
      " [0 1 0 1]]\n",
      "\n",
      "Scale transform matrix:\n",
      "[[2 0]\n",
      " [0 3]]\n",
      "\n",
      "Scaled indexes:\n",
      "[[0 0 2 2]\n",
      " [0 3 0 3]]\n"
     ]
    }
   ],
   "source": [
    "indexes = coordinates(img_2x2)\n",
    "\n",
    "print(\"Original indexes:\\n{}\".format(indexes))\n",
    "\n",
    "scale = np.array(\n",
    "    [[2, 0],\n",
    "     [0, 3]]\n",
    ")\n",
    "\n",
    "print(\"\\nScale transform matrix:\\n{}\".format(scale))\n",
    "\n",
    "print(\"\\nScaled indexes:\\n{}\".format(scale.dot(indexes)))"
   ]
  },
  {
   "cell_type": "code",
   "execution_count": 13,
   "metadata": {},
   "outputs": [
    {
     "data": {
      "image/png": "[encoded data removed]",
      "text/plain": [
       "<Figure size 288x288 with 1 Axes>"
      ]
     },
     "metadata": {
      "needs_background": "light"
     },
     "output_type": "display_data"
    },
    {
     "name": "stdout",
     "output_type": "stream",
     "text": [
      "[[ 50  75 100   0   0   0   0   0   0   0]\n",
      " [125 150 175   0   0   0   0   0   0   0]\n",
      " [200 225 250   0   0   0   0   0   0   0]\n",
      " [  0   0   0   0   0   0   0   0   0   0]\n",
      " [  0   0   0   0   0   0   0   0   0   0]\n",
      " [  0   0   0   0   0   0   0   0   0   0]\n",
      " [  0   0   0   0   0   0   0   0   0   0]\n",
      " [  0   0   0   0   0   0   0   0   0   0]\n",
      " [  0   0   0   0   0   0   0   0   0   0]\n",
      " [  0   0   0   0   0   0   0   0   0   0]]\n"
     ]
    },
    {
     "data": {
      "image/png": "[encoded data removed]",
      "text/plain": [
       "<Figure size 288x288 with 1 Axes>"
      ]
     },
     "metadata": {
      "needs_background": "light"
     },
     "output_type": "display_data"
    },
    {
     "name": "stdout",
     "output_type": "stream",
     "text": [
      "[[ 50   0   0  75   0   0 100   0   0   0]\n",
      " [  0   0   0   0   0   0   0   0   0   0]\n",
      " [125   0   0 150   0   0 175   0   0   0]\n",
      " [  0   0   0   0   0   0   0   0   0   0]\n",
      " [200   0   0 225   0   0 250   0   0   0]\n",
      " [  0   0   0   0   0   0   0   0   0   0]\n",
      " [  0   0   0   0   0   0   0   0   0   0]\n",
      " [  0   0   0   0   0   0   0   0   0   0]\n",
      " [  0   0   0   0   0   0   0   0   0   0]\n",
      " [  0   0   0   0   0   0   0   0   0   0]]\n"
     ]
    }
   ],
   "source": [
    "updated = show_bw_image_transform(\"Original\", img_3x3, identity_2x2, (10, 10))\n",
    "print(updated)\n",
    "\n",
    "updated = show_bw_image_transform(\"Scaled\", img_3x3, scale, (10, 10))\n",
    "print(updated)\n"
   ]
  },
  {
   "cell_type": "markdown",
   "metadata": {},
   "source": [
    "### Shear\n",
    "\n",
    "The identity matrix preserves the `row` values by using `0` to eliminate the `col` values in the addition operations. The same thing happens for the `col` values. What happens if we change one of the `0` entries to be a different value?\n",
    "\n",
    "$$\n",
    "\\begin{bmatrix}\n",
    "1 & \\mathbf{2}\\\\\n",
    "0 & 1\n",
    "\\end{bmatrix}\n",
    "\\begin{bmatrix}\n",
    "0 & 0 & 1 & 1 \\\\\n",
    "0 & 1 & 0 & 1\n",
    "\\end{bmatrix}\n",
    "=\n",
    "\\begin{bmatrix}\n",
    "1 \\cdot 0 + \\mathbf{2} \\cdot 0 & 1 \\cdot 0 + \\mathbf{2} \\cdot 1 & 1 \\cdot 1 + \\mathbf{2} \\cdot 0 & 1 \\cdot 1 + \\mathbf{2} \\cdot 1 \\\\\n",
    "0 \\cdot 0 + 1 \\cdot 0 & 0 \\cdot 0 + 1 \\cdot 1 & 0 \\cdot 1 + 1 \\cdot 0 & 0 \\cdot 1 + 1 \\cdot 1 \n",
    "\\end{bmatrix}\n",
    "=\n",
    "\\begin{bmatrix}\n",
    "0 & 2 & 1 & 3 \\\\\n",
    "0 & 1 & 0 & 1\n",
    "\\end{bmatrix}\n",
    "$$\n",
    "\n",
    "The coordinates now have each `row` increased by its `col` value multiplied by `2`. Basically, the rows move further in each column.\n",
    "\n",
    "The same thing would happen for the `col` if we changed the other `0` value - the columns would move further in each row.\n",
    "\n",
    "We can call this our *shearing transform matrix*:\n",
    "\n",
    "$$\n",
    "\\begin{bmatrix}\n",
    "1 & s_{v}\\\\\n",
    "s_{h} & 1\n",
    "\\end{bmatrix}\n",
    "$$\n",
    "\n",
    "Where it applies the scaling transform to the coordinates $(row, col) \\rightarrow (row', col')$:\n",
    "\n",
    "$$row + s_{v} \\cdot col = row'$$\n",
    "$$col + s_{h} \\cdot row = col'$$"
   ]
  },
  {
   "cell_type": "code",
   "execution_count": 14,
   "metadata": {},
   "outputs": [
    {
     "name": "stdout",
     "output_type": "stream",
     "text": [
      "Original indexes:\n",
      "[[0 0 1 1]\n",
      " [0 1 0 1]]\n",
      "\n",
      "Shear transform matrix:\n",
      "[[1 2]\n",
      " [0 1]]\n",
      "\n",
      "Sheared indexes:\n",
      "[[0 2 1 3]\n",
      " [0 1 0 1]]\n"
     ]
    }
   ],
   "source": [
    "indexes = coordinates(img_2x2)\n",
    "\n",
    "print(\"Original indexes:\\n{}\".format(indexes))\n",
    "\n",
    "shear = np.array(\n",
    "    [[1, 2],\n",
    "     [0, 1]]\n",
    ")\n",
    "\n",
    "print(\"\\nShear transform matrix:\\n{}\".format(shear))\n",
    "\n",
    "print(\"\\nSheared indexes:\\n{}\".format(shear.dot(indexes)))"
   ]
  },
  {
   "cell_type": "code",
   "execution_count": 15,
   "metadata": {},
   "outputs": [
    {
     "data": {
      "image/png": "[encoded data removed]",
      "text/plain": [
       "<Figure size 288x288 with 1 Axes>"
      ]
     },
     "metadata": {
      "needs_background": "light"
     },
     "output_type": "display_data"
    },
    {
     "name": "stdout",
     "output_type": "stream",
     "text": [
      "[[ 50  75 100   0   0   0   0   0   0   0]\n",
      " [125 150 175   0   0   0   0   0   0   0]\n",
      " [200 225 250   0   0   0   0   0   0   0]\n",
      " [  0   0   0   0   0   0   0   0   0   0]\n",
      " [  0   0   0   0   0   0   0   0   0   0]\n",
      " [  0   0   0   0   0   0   0   0   0   0]\n",
      " [  0   0   0   0   0   0   0   0   0   0]\n",
      " [  0   0   0   0   0   0   0   0   0   0]\n",
      " [  0   0   0   0   0   0   0   0   0   0]\n",
      " [  0   0   0   0   0   0   0   0   0   0]]\n"
     ]
    },
    {
     "data": {
      "image/png": "[encoded data removed]",
      "text/plain": [
       "<Figure size 288x288 with 1 Axes>"
      ]
     },
     "metadata": {
      "needs_background": "light"
     },
     "output_type": "display_data"
    },
    {
     "name": "stdout",
     "output_type": "stream",
     "text": [
      "[[ 50   0   0   0   0   0   0   0   0   0]\n",
      " [125   0   0   0   0   0   0   0   0   0]\n",
      " [200  75   0   0   0   0   0   0   0   0]\n",
      " [  0 150   0   0   0   0   0   0   0   0]\n",
      " [  0 225 100   0   0   0   0   0   0   0]\n",
      " [  0   0 175   0   0   0   0   0   0   0]\n",
      " [  0   0 250   0   0   0   0   0   0   0]\n",
      " [  0   0   0   0   0   0   0   0   0   0]\n",
      " [  0   0   0   0   0   0   0   0   0   0]\n",
      " [  0   0   0   0   0   0   0   0   0   0]]\n"
     ]
    }
   ],
   "source": [
    "updated = show_bw_image_transform(\"Original\", img_3x3, identity_2x2, (10,10))\n",
    "print(updated)\n",
    "\n",
    "updated = show_bw_image_transform(\"Vertical shear\", img_3x3, shear, (10,10))\n",
    "print(updated)"
   ]
  },
  {
   "cell_type": "code",
   "execution_count": 16,
   "metadata": {},
   "outputs": [
    {
     "data": {
      "image/png": "[encoded data removed]",
      "text/plain": [
       "<Figure size 288x288 with 1 Axes>"
      ]
     },
     "metadata": {
      "needs_background": "light"
     },
     "output_type": "display_data"
    },
    {
     "name": "stdout",
     "output_type": "stream",
     "text": [
      "[[ 50  75 100   0   0   0   0   0   0   0]\n",
      " [125 150 175   0   0   0   0   0   0   0]\n",
      " [200 225 250   0   0   0   0   0   0   0]\n",
      " [  0   0   0   0   0   0   0   0   0   0]\n",
      " [  0   0   0   0   0   0   0   0   0   0]\n",
      " [  0   0   0   0   0   0   0   0   0   0]\n",
      " [  0   0   0   0   0   0   0   0   0   0]\n",
      " [  0   0   0   0   0   0   0   0   0   0]\n",
      " [  0   0   0   0   0   0   0   0   0   0]\n",
      " [  0   0   0   0   0   0   0   0   0   0]]\n"
     ]
    },
    {
     "data": {
      "image/png": "[encoded data removed]",
      "text/plain": [
       "<Figure size 288x288 with 1 Axes>"
      ]
     },
     "metadata": {
      "needs_background": "light"
     },
     "output_type": "display_data"
    },
    {
     "name": "stdout",
     "output_type": "stream",
     "text": [
      "[[ 50  75 100   0   0   0   0   0   0   0]\n",
      " [  0   0 125 150 175   0   0   0   0   0]\n",
      " [  0   0   0   0 200 225 250   0   0   0]\n",
      " [  0   0   0   0   0   0   0   0   0   0]\n",
      " [  0   0   0   0   0   0   0   0   0   0]\n",
      " [  0   0   0   0   0   0   0   0   0   0]\n",
      " [  0   0   0   0   0   0   0   0   0   0]\n",
      " [  0   0   0   0   0   0   0   0   0   0]\n",
      " [  0   0   0   0   0   0   0   0   0   0]\n",
      " [  0   0   0   0   0   0   0   0   0   0]]\n"
     ]
    }
   ],
   "source": [
    "shear = np.array(\n",
    "    [[1, 0],\n",
    "     [2, 1]]\n",
    ")\n",
    "\n",
    "updated = show_bw_image_transform(\"Original\", img_3x3, identity_2x2, (10,10))\n",
    "print(updated)\n",
    "\n",
    "updated = show_bw_image_transform(\"Horizontal shear\", img_3x3, shear, (10,10))\n",
    "print(updated)"
   ]
  },
  {
   "cell_type": "markdown",
   "metadata": {},
   "source": [
    "### Rotation\n",
    "\n",
    "To rotate an image, we need to move each pixel along an the edge of a circle for a given number of degrees and calculate its new coordinates.\n",
    "\n",
    "<img src=\"2d_planar_transform.png\" width=\"500\"/>\n",
    "\n",
    "This is simplest to do using polar coordinates (yay, radians!). Convert the current $(x, y)$ coordinates to polar coordinates:\n",
    "\n",
    "$$\n",
    "r \\cdot cos(\\phi) = x\\\\\n",
    "r \\cdot sin(\\phi) = y\n",
    "$$\n",
    "\n",
    "And the destination polar coordinates:\n",
    "\n",
    "$$\n",
    "r \\cdot cos(\\phi + \\theta) = x'\\\\\n",
    "r \\cdot sin(\\phi + \\theta) = y'\n",
    "$$\n",
    "\n",
    "Then apply the trigonometric *angle sum and differences* identities to the $x'$ and $y'$ coordinates:\n",
    "\n",
    "$$\n",
    "r \\cdot cos(\\phi) \\cdot cos(\\theta) - r \\cdot sin(\\phi) \\cdot sin(\\theta) = x'\\\\\n",
    "r \\cdot sin(\\phi) \\cdot cos(\\theta) + r \\cdot cos(\\phi) \\cdot sin(\\theta) = y'\n",
    "$$\n",
    "\n",
    "Finally, substitute the $x$ and $y$ coordinates into the $x'$ and $y'$ coordinates, which removes $r$:\n",
    "\n",
    "$$\n",
    "x \\cdot cos(\\theta) - y \\cdot sin(\\theta) = x'\\\\\n",
    "y \\cdot cos(\\theta) + x \\cdot sin(\\theta) = y'\n",
    "$$\n",
    "\n",
    "Now we know that to move a pixel a given number of degrees, we need to:\n",
    "\n",
    "1. Convert the degrees to radians\n",
    "1. Apply the above formulas to $x$ and $y$\n",
    "\n",
    "Ok, that was intense, back to matrices. How do we use these new formulas in a transformation matrix?\n",
    "\n",
    "We've learned how the identity matrix can be converted to a transformation matrix by replacing the `1` values (*scale*) or `0` values (*shear*), resulting in the *scale* and *shear* formulas:\n",
    "\n",
    "$$row \\cdot c_{row} = row'$$\n",
    "$$col \\cdot c_{col} = col'$$\n",
    "\n",
    "$$row + s_{v} \\cdot col = row'$$\n",
    "$$col + s_{h} \\cdot row = col'$$\n",
    "\n",
    "We can expand the formulas to include the implicit `1` and `0` values, and put the $row$ and $col$ in the same order, to match their respective transformation matrices:\n",
    "\n",
    "$$row \\cdot c_{row} + 0 \\cdot col = row'$$\n",
    "$$0 \\cdot row + col \\cdot c_{col} = col'$$\n",
    "\n",
    "$$\n",
    "\\begin{bmatrix}\n",
    "c_{row} & 0 \\\\\n",
    "0 & c_{col}\n",
    "\\end{bmatrix}\n",
    "$$\n",
    "\n",
    "$$1 \\cdot row + s_{v} \\cdot col = row'$$\n",
    "$$s_{h} \\cdot row + 1 \\cdot col = col'$$\n",
    "\n",
    "$$\n",
    "\\begin{bmatrix}\n",
    "1 & s_{v} \\\\\n",
    "s_{h} & 1\n",
    "\\end{bmatrix}\n",
    "$$\n",
    "\n",
    "Those scale and shear formulas look familar...kinda like the rotation formalus we just learned, but not quite...\n",
    "\n",
    "If we re-arrange our rotation formulas to put the $x$ and $y$ in the same order, and we rename $x \\rightarrow row$ and $y \\rightarrow col$, we get:\n",
    "\n",
    "$$\n",
    "row \\cdot cos(\\theta) - col \\cdot sin(\\theta) = row'\\\\\n",
    "row \\cdot sin(\\theta) + col \\cdot cos(\\theta) = col'\n",
    "$$\n",
    "\n",
    "Now the rotation formulas follow the same pattern as the other transformation formulas, and we can write the *rotation transformation matrix* the same way:\n",
    "\n",
    "$$\n",
    "\\begin{bmatrix}\n",
    "cos(\\theta) & -sin(\\theta) \\\\\n",
    "sin(\\theta) & cos(\\theta)\n",
    "\\end{bmatrix}\n",
    "$$"
   ]
  },
  {
   "cell_type": "code",
   "execution_count": 17,
   "metadata": {},
   "outputs": [
    {
     "data": {
      "image/png": "[encoded data removed]",
      "text/plain": [
       "<Figure size 288x288 with 1 Axes>"
      ]
     },
     "metadata": {
      "needs_background": "light"
     },
     "output_type": "display_data"
    },
    {
     "name": "stdout",
     "output_type": "stream",
     "text": [
      "[[ 50  75 100   0   0   0   0   0   0   0]\n",
      " [125 150 175   0   0   0   0   0   0   0]\n",
      " [200 225 250   0   0   0   0   0   0   0]\n",
      " [  0   0   0   0   0   0   0   0   0   0]\n",
      " [  0   0   0   0   0   0   0   0   0   0]\n",
      " [  0   0   0   0   0   0   0   0   0   0]\n",
      " [  0   0   0   0   0   0   0   0   0   0]\n",
      " [  0   0   0   0   0   0   0   0   0   0]\n",
      " [  0   0   0   0   0   0   0   0   0   0]\n",
      " [  0   0   0   0   0   0   0   0   0   0]]\n"
     ]
    },
    {
     "data": {
      "image/png": "[encoded data removed]",
      "text/plain": [
       "<Figure size 288x288 with 1 Axes>"
      ]
     },
     "metadata": {
      "needs_background": "light"
     },
     "output_type": "display_data"
    },
    {
     "name": "stdout",
     "output_type": "stream",
     "text": [
      "[[ 50 125 200   0   0   0   0   0   0   0]\n",
      " [  0   0   0   0   0   0   0   0   0   0]\n",
      " [  0   0   0   0   0   0   0   0   0   0]\n",
      " [  0   0   0   0   0   0   0   0   0   0]\n",
      " [  0   0   0   0   0   0   0   0   0   0]\n",
      " [  0   0   0   0   0   0   0   0   0   0]\n",
      " [  0   0   0   0   0   0   0   0   0   0]\n",
      " [  0   0   0   0   0   0   0   0   0   0]\n",
      " [100 175 250   0   0   0   0   0   0   0]\n",
      " [ 75 150 225   0   0   0   0   0   0   0]]\n"
     ]
    }
   ],
   "source": [
    "# There are 2*pi radians in in a circle, which has 360 degrees. Convert\n",
    "# degrees to radians:\n",
    "degree = 90\n",
    "radian = (degree/360) * (2 * np.pi)\n",
    "\n",
    "rotate = np.array(\n",
    "    [[np.cos(radian), -np.sin(radian)],\n",
    "     [np.sin(radian), np.cos(radian)]]\n",
    ")\n",
    "\n",
    "updated = show_bw_image_transform(\"Original\", img_3x3, identity_2x2, (10,10))\n",
    "print(updated)\n",
    "\n",
    "updated = show_bw_image_transform(\"Rotated 90deg\", img_3x3, rotate, (10,10))\n",
    "print(updated)"
   ]
  },
  {
   "cell_type": "markdown",
   "metadata": {},
   "source": [
    "### Translation\n",
    "\n",
    "You'll notice the rotation above is a bit of a mess because it went off the top of the image and wrapped around to the bottom.\n",
    "\n",
    "We should move it (translate) downward by at least 2 rows first before rotating it so that it stays within the image.\n",
    "\n",
    "How can we create a translation transformation matrix?\n",
    "\n",
    "Remember how a scalar added to a matrix resulted in the same translation for both $row$ and $col$? But there's no way to translate $row$ and $col$ separately using scalar addition, and matrix multiplication can't perform addition. What do we do?\n",
    "\n",
    "We can add another dimension! If we pretend our 2D coordinates are floating on a plane in 3D space, then we can [*shear* the 3D coordinates](https://upload.wikimedia.org/wikipedia/commons/3/34/Affine_transformations.ogv) which will look like the 2D coordinates are translated.\n",
    "\n",
    "Isn't math amazing?\n",
    "\n",
    "To convert our 2D coordinates to 3D, we need to add a $z$ value. We use a $z$ value of `1` to not affect the 2D values.\n",
    "\n",
    "Here's the $2 \\times 2$ image matrix we've been using before with the pixel values sub-scripted with their updated matrix indexes - including the new $z$ value:\n",
    "\n",
    "$$\n",
    "\\begin{bmatrix}\n",
    "50_{0,0,1} & 100_{0,1,1} \\\\\n",
    "150_{1,0,1} & 200_{1,1,1}\n",
    "\\end{bmatrix}\n",
    "$$\n",
    "\n",
    "Extracting the pixel coordinates into a list of $(row, col, z)$ triplets, we get a $3 \\times 4$ coordinate matrix:\n",
    "\n",
    "$$\n",
    "\\begin{bmatrix}\n",
    "row_{0} \\cdots row_{n} \\\\\n",
    "col_{0} \\cdots col_{n} \\\\\n",
    "z_{0} \\cdots z_{n}\n",
    "\\end{bmatrix}\n",
    "=\n",
    "\\begin{bmatrix}\n",
    "0 & 0 & 1 & 1 \\\\\n",
    "0 & 1 & 0 & 1 \\\\\n",
    "1 & 1 & 1 & 1\n",
    "\\end{bmatrix}\n",
    "$$\n",
    "\n",
    "We also have to use a $3 \\times 3$ identity matrix now:\n",
    "\n",
    "$$\n",
    "\\begin{bmatrix}\n",
    "1 & 0 & 0 \\\\\n",
    "0 & 1 & 0 \\\\\n",
    "0 & 0 & 1\n",
    "\\end{bmatrix}\n",
    "$$\n",
    "\n",
    "Which means all of our transform matrices are now $3 \\times 3$:\n",
    "\n",
    "$$\n",
    "\\stackrel{\\mbox{scale}}{%\n",
    "\\begin{bmatrix}\n",
    "c_{row} & 0 & 0 \\\\\n",
    "0 & c_{col} & 0 \\\\\n",
    "0 & 0 & 1\n",
    "\\end{bmatrix}%\n",
    "}\n",
    "$$\n",
    "\n",
    "$$\n",
    "\\stackrel{\\mbox{shear}}{%\n",
    "\\begin{bmatrix}\n",
    "1 & s_{v} & 0 \\\\\n",
    "s_{h} & 1 & 0 \\\\\n",
    "0 & 0 & 1\n",
    "\\end{bmatrix}%\n",
    "}\n",
    "$$\n",
    "\n",
    "$$\n",
    "\\stackrel{\\mbox{rotate}}{%\n",
    "\\begin{bmatrix}\n",
    "cos(\\theta) & -sin(\\theta) & 0 \\\\\n",
    "sin(\\theta) & cos(\\theta) & 0 \\\\\n",
    "0 & 0 & 1\n",
    "\\end{bmatrix}%\n",
    "}\n",
    "$$\n",
    "\n",
    "And what does the *translation transformation matrix* look like?\n",
    "\n",
    "$$\n",
    "\\stackrel{\\mbox{translate}}{%\n",
    "\\begin{bmatrix}\n",
    "1 & 0 & t_{row} \\\\\n",
    "0 & 1 & t_{col} \\\\\n",
    "0 & 0 & 1\n",
    "\\end{bmatrix}%\n",
    "}\n",
    "$$"
   ]
  },
  {
   "cell_type": "code",
   "execution_count": 18,
   "metadata": {},
   "outputs": [
    {
     "data": {
      "image/png": "[encoded data removed]",
      "text/plain": [
       "<Figure size 288x288 with 1 Axes>"
      ]
     },
     "metadata": {
      "needs_background": "light"
     },
     "output_type": "display_data"
    },
    {
     "name": "stdout",
     "output_type": "stream",
     "text": [
      "[[ 50  75 100   0   0   0   0   0   0   0]\n",
      " [125 150 175   0   0   0   0   0   0   0]\n",
      " [200 225 250   0   0   0   0   0   0   0]\n",
      " [  0   0   0   0   0   0   0   0   0   0]\n",
      " [  0   0   0   0   0   0   0   0   0   0]\n",
      " [  0   0   0   0   0   0   0   0   0   0]\n",
      " [  0   0   0   0   0   0   0   0   0   0]\n",
      " [  0   0   0   0   0   0   0   0   0   0]\n",
      " [  0   0   0   0   0   0   0   0   0   0]\n",
      " [  0   0   0   0   0   0   0   0   0   0]]\n"
     ]
    },
    {
     "data": {
      "image/png": "[encoded data removed]",
      "text/plain": [
       "<Figure size 288x288 with 1 Axes>"
      ]
     },
     "metadata": {
      "needs_background": "light"
     },
     "output_type": "display_data"
    },
    {
     "name": "stdout",
     "output_type": "stream",
     "text": [
      "[[  0   0   0   0   0   0   0   0   0   0]\n",
      " [  0   0   0   0   0   0   0   0   0   0]\n",
      " [  0   0   0   0  50  75 100   0   0   0]\n",
      " [  0   0   0   0 125 150 175   0   0   0]\n",
      " [  0   0   0   0 200 225 250   0   0   0]\n",
      " [  0   0   0   0   0   0   0   0   0   0]\n",
      " [  0   0   0   0   0   0   0   0   0   0]\n",
      " [  0   0   0   0   0   0   0   0   0   0]\n",
      " [  0   0   0   0   0   0   0   0   0   0]\n",
      " [  0   0   0   0   0   0   0   0   0   0]]\n"
     ]
    }
   ],
   "source": [
    "translate_3x3 = np.array(\n",
    "    [[1, 0, 2],\n",
    "     [0, 1, 4],\n",
    "     [0, 0, 1]]\n",
    ")\n",
    "\n",
    "updated = show_bw_image_transform_3d(\"Original\", img_3x3, identity_3x3, (10,10))\n",
    "print(updated)\n",
    "\n",
    "updated = show_bw_image_transform_3d(\"Translate\", img_3x3, translate_3x3, (10,10))\n",
    "print(updated)"
   ]
  },
  {
   "cell_type": "code",
   "execution_count": 19,
   "metadata": {},
   "outputs": [
    {
     "data": {
      "image/png": "[encoded data removed]",
      "text/plain": [
       "<Figure size 288x288 with 1 Axes>"
      ]
     },
     "metadata": {
      "needs_background": "light"
     },
     "output_type": "display_data"
    },
    {
     "data": {
      "image/png": "[encoded data removed]",
      "text/plain": [
       "<Figure size 288x288 with 1 Axes>"
      ]
     },
     "metadata": {
      "needs_background": "light"
     },
     "output_type": "display_data"
    }
   ],
   "source": [
    "# There are 2*pi radians in in a circle, which has 360 degrees. Convert\n",
    "# degrees to radians:\n",
    "degree = 90\n",
    "radian = (degree/360) * (2 * np.pi)\n",
    "\n",
    "rotate_3x3 = np.array(\n",
    "    [[np.cos(radian), -np.sin(radian), 0],\n",
    "     [np.sin(radian), np.cos(radian), 0],\n",
    "     [0, 0, 1]]\n",
    ")\n",
    "\n",
    "translate_3x3 = np.array(\n",
    "    [[1, 0, 2],\n",
    "     [0, 1, 0],\n",
    "     [0, 0, 1]]\n",
    ")\n",
    "\n",
    "updated = show_bw_image_transform_3d(\"Original\", img_3x3, identity_3x3, (10,10))\n",
    "\n",
    "updated = show_bw_image_transform_3d(\"Translate and rotate\", img_3x3, translate_3x3 @ rotate_3x3, (10,10))"
   ]
  },
  {
   "cell_type": "code",
   "execution_count": 20,
   "metadata": {},
   "outputs": [
    {
     "data": {
      "image/png": "[encoded data removed]",
      "text/plain": [
       "<Figure size 288x288 with 1 Axes>"
      ]
     },
     "metadata": {
      "needs_background": "light"
     },
     "output_type": "display_data"
    },
    {
     "data": {
      "image/png": "[encoded data removed]",
      "text/plain": [
       "<Figure size 288x288 with 1 Axes>"
      ]
     },
     "metadata": {
      "needs_background": "light"
     },
     "output_type": "display_data"
    }
   ],
   "source": [
    "updated = show_image_transform_3d(\"Original\", img_smiley, identity_3x3, (200,200))\n",
    "\n",
    "translate_3x3 = np.array(\n",
    "    [[1, 0, 50],\n",
    "     [0, 1, 25],\n",
    "     [0, 0, 1]]\n",
    ")\n",
    "updated = show_image_transform_3d(\"Translate\", img_smiley, translate_3x3, (300,300))"
   ]
  },
  {
   "cell_type": "code",
   "execution_count": 21,
   "metadata": {},
   "outputs": [
    {
     "data": {
      "image/png": "[encoded data removed]",
      "text/plain": [
       "<Figure size 288x288 with 1 Axes>"
      ]
     },
     "metadata": {
      "needs_background": "light"
     },
     "output_type": "display_data"
    },
    {
     "data": {
      "image/png": "[encoded data removed]",
      "text/plain": [
       "<Figure size 288x288 with 1 Axes>"
      ]
     },
     "metadata": {
      "needs_background": "light"
     },
     "output_type": "display_data"
    }
   ],
   "source": [
    "scale_3x3 = np.array(\n",
    "    [[1, 0, 0],\n",
    "     [0, 0.5, 0],\n",
    "     [0, 0, 1]]\n",
    ")\n",
    "updated = show_image_transform_3d(\"Horizontal squash\", img_smiley, scale_3x3, (200,200))\n",
    "\n",
    "scale_3x3 = np.array(\n",
    "    [[2, 0, 0],\n",
    "     [0, 1, 0],\n",
    "     [0, 0, 1]]\n",
    ")\n",
    "updated = show_image_transform_3d(\"Vertical scale\", img_smiley, scale_3x3, (300,300))"
   ]
  },
  {
   "cell_type": "code",
   "execution_count": 22,
   "metadata": {},
   "outputs": [
    {
     "data": {
      "image/png": "[encoded data removed]",
      "text/plain": [
       "<Figure size 288x288 with 1 Axes>"
      ]
     },
     "metadata": {
      "needs_background": "light"
     },
     "output_type": "display_data"
    },
    {
     "data": {
      "image/png": "[encoded data removed]",
      "text/plain": [
       "<Figure size 288x288 with 1 Axes>"
      ]
     },
     "metadata": {
      "needs_background": "light"
     },
     "output_type": "display_data"
    }
   ],
   "source": [
    "h_shear_3x3 = np.array(\n",
    "    [[1, 0, 0],\n",
    "     [1, 1, 0],\n",
    "     [0, 0, 1]]\n",
    ")\n",
    "updated = show_image_transform_3d(\"Horizontal shear\", img_smiley, h_shear_3x3, (300,300))\n",
    "\n",
    "v_shear_3x3 = np.array(\n",
    "    [[1, 1, 0],\n",
    "     [0, 1, 0],\n",
    "     [0, 0, 1]]\n",
    ")\n",
    "updated = show_image_transform_3d(\"Vertical shear\", img_smiley, v_shear_3x3, (300,300))"
   ]
  },
  {
   "cell_type": "code",
   "execution_count": 23,
   "metadata": {},
   "outputs": [
    {
     "data": {
      "image/png": "[encoded data removed]",
      "text/plain": [
       "<Figure size 288x288 with 1 Axes>"
      ]
     },
     "metadata": {
      "needs_background": "light"
     },
     "output_type": "display_data"
    }
   ],
   "source": [
    "degree = 45\n",
    "radian = (degree/360) * (2 * np.pi)\n",
    "\n",
    "rotate_3x3 = np.array(\n",
    "    [[np.cos(radian), -np.sin(radian), 0],\n",
    "     [np.sin(radian), np.cos(radian), 0],\n",
    "     [0, 0, 1]]\n",
    ")\n",
    "updated = show_image_transform_3d(\"Rotated\", img_smiley, rotate_3x3, (200,200))"
   ]
  },
  {
   "cell_type": "code",
   "execution_count": 24,
   "metadata": {
    "scrolled": true
   },
   "outputs": [
    {
     "data": {
      "image/png": "[encoded data removed]",
      "text/plain": [
       "<Figure size 288x288 with 1 Axes>"
      ]
     },
     "metadata": {
      "needs_background": "light"
     },
     "output_type": "display_data"
    }
   ],
   "source": [
    "updated = show_image_transform_3d(\"Translate and shear\", img_smiley, translate_3x3 @ scale_3x3 @ rotate_3x3, (300,300))"
   ]
  },
  {
   "cell_type": "code",
   "execution_count": null,
   "metadata": {},
   "outputs": [],
   "source": []
  }
 ],
 "metadata": {
  "kernelspec": {
   "display_name": "Python 3",
   "language": "python",
   "name": "python3"
  },
  "language_info": {
   "codemirror_mode": {
    "name": "ipython",
    "version": 3
   },
   "file_extension": ".py",
   "mimetype": "text/x-python",
   "name": "python",
   "nbconvert_exporter": "python",
   "pygments_lexer": "ipython3",
   "version": "3.7.3"
  }
 },
 "nbformat": 4,
 "nbformat_minor": 2
}
